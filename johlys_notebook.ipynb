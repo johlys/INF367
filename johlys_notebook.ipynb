{
 "cells": [
  {
   "cell_type": "markdown",
   "id": "4390daa4-7ee9-4665-8d24-bf0c13cca1f7",
   "metadata": {},
   "source": [
    "# Spaceship Titanic"
   ]
  },
  {
   "cell_type": "code",
   "execution_count": 107,
   "id": "062e43c3-5cdf-4648-8bff-d642e1ae4b31",
   "metadata": {},
   "outputs": [],
   "source": [
    "import pandas as pd\n",
    "import numpy as np"
   ]
  },
  {
   "cell_type": "markdown",
   "id": "49d6e60f-b804-4b79-ad47-7fc6822349f1",
   "metadata": {},
   "source": [
    "## Loading the data"
   ]
  },
  {
   "cell_type": "code",
   "execution_count": 126,
   "id": "cffb604c-3837-4a8a-bc5d-c655a9940766",
   "metadata": {},
   "outputs": [],
   "source": [
    "train_data_csv = pd.read_csv(\"data/train.csv\")\n",
    "test_data_csv = pd.read_csv(\"data/test.csv\")"
   ]
  },
  {
   "cell_type": "markdown",
   "id": "9e56d10d-7af3-4e62-8573-20f34b87d35d",
   "metadata": {},
   "source": [
    "## Looking at the data"
   ]
  },
  {
   "cell_type": "code",
   "execution_count": 127,
   "id": "0463b9b4-e98b-4759-9c44-cccef9b79f14",
   "metadata": {},
   "outputs": [
    {
     "name": "stdout",
     "output_type": "stream",
     "text": [
      "8693\n"
     ]
    }
   ],
   "source": [
    "train_data_csv.head()\n",
    "print(len(train_data_csv.index))"
   ]
  },
  {
   "cell_type": "code",
   "execution_count": 110,
   "id": "883b2a83-0d0d-464b-b5f8-1854b1a9d7f4",
   "metadata": {},
   "outputs": [
    {
     "data": {
      "text/html": [
       "<div>\n",
       "<style scoped>\n",
       "    .dataframe tbody tr th:only-of-type {\n",
       "        vertical-align: middle;\n",
       "    }\n",
       "\n",
       "    .dataframe tbody tr th {\n",
       "        vertical-align: top;\n",
       "    }\n",
       "\n",
       "    .dataframe thead th {\n",
       "        text-align: right;\n",
       "    }\n",
       "</style>\n",
       "<table border=\"1\" class=\"dataframe\">\n",
       "  <thead>\n",
       "    <tr style=\"text-align: right;\">\n",
       "      <th></th>\n",
       "      <th>Age</th>\n",
       "      <th>RoomService</th>\n",
       "      <th>FoodCourt</th>\n",
       "      <th>ShoppingMall</th>\n",
       "      <th>Spa</th>\n",
       "      <th>VRDeck</th>\n",
       "    </tr>\n",
       "  </thead>\n",
       "  <tbody>\n",
       "    <tr>\n",
       "      <th>count</th>\n",
       "      <td>8514.000000</td>\n",
       "      <td>8512.000000</td>\n",
       "      <td>8510.000000</td>\n",
       "      <td>8485.000000</td>\n",
       "      <td>8510.000000</td>\n",
       "      <td>8505.000000</td>\n",
       "    </tr>\n",
       "    <tr>\n",
       "      <th>mean</th>\n",
       "      <td>28.827930</td>\n",
       "      <td>224.687617</td>\n",
       "      <td>458.077203</td>\n",
       "      <td>173.729169</td>\n",
       "      <td>311.138778</td>\n",
       "      <td>304.854791</td>\n",
       "    </tr>\n",
       "    <tr>\n",
       "      <th>std</th>\n",
       "      <td>14.489021</td>\n",
       "      <td>666.717663</td>\n",
       "      <td>1611.489240</td>\n",
       "      <td>604.696458</td>\n",
       "      <td>1136.705535</td>\n",
       "      <td>1145.717189</td>\n",
       "    </tr>\n",
       "    <tr>\n",
       "      <th>min</th>\n",
       "      <td>0.000000</td>\n",
       "      <td>0.000000</td>\n",
       "      <td>0.000000</td>\n",
       "      <td>0.000000</td>\n",
       "      <td>0.000000</td>\n",
       "      <td>0.000000</td>\n",
       "    </tr>\n",
       "    <tr>\n",
       "      <th>25%</th>\n",
       "      <td>19.000000</td>\n",
       "      <td>0.000000</td>\n",
       "      <td>0.000000</td>\n",
       "      <td>0.000000</td>\n",
       "      <td>0.000000</td>\n",
       "      <td>0.000000</td>\n",
       "    </tr>\n",
       "    <tr>\n",
       "      <th>50%</th>\n",
       "      <td>27.000000</td>\n",
       "      <td>0.000000</td>\n",
       "      <td>0.000000</td>\n",
       "      <td>0.000000</td>\n",
       "      <td>0.000000</td>\n",
       "      <td>0.000000</td>\n",
       "    </tr>\n",
       "    <tr>\n",
       "      <th>75%</th>\n",
       "      <td>38.000000</td>\n",
       "      <td>47.000000</td>\n",
       "      <td>76.000000</td>\n",
       "      <td>27.000000</td>\n",
       "      <td>59.000000</td>\n",
       "      <td>46.000000</td>\n",
       "    </tr>\n",
       "    <tr>\n",
       "      <th>max</th>\n",
       "      <td>79.000000</td>\n",
       "      <td>14327.000000</td>\n",
       "      <td>29813.000000</td>\n",
       "      <td>23492.000000</td>\n",
       "      <td>22408.000000</td>\n",
       "      <td>24133.000000</td>\n",
       "    </tr>\n",
       "  </tbody>\n",
       "</table>\n",
       "</div>"
      ],
      "text/plain": [
       "               Age   RoomService     FoodCourt  ShoppingMall           Spa  \\\n",
       "count  8514.000000   8512.000000   8510.000000   8485.000000   8510.000000   \n",
       "mean     28.827930    224.687617    458.077203    173.729169    311.138778   \n",
       "std      14.489021    666.717663   1611.489240    604.696458   1136.705535   \n",
       "min       0.000000      0.000000      0.000000      0.000000      0.000000   \n",
       "25%      19.000000      0.000000      0.000000      0.000000      0.000000   \n",
       "50%      27.000000      0.000000      0.000000      0.000000      0.000000   \n",
       "75%      38.000000     47.000000     76.000000     27.000000     59.000000   \n",
       "max      79.000000  14327.000000  29813.000000  23492.000000  22408.000000   \n",
       "\n",
       "             VRDeck  \n",
       "count   8505.000000  \n",
       "mean     304.854791  \n",
       "std     1145.717189  \n",
       "min        0.000000  \n",
       "25%        0.000000  \n",
       "50%        0.000000  \n",
       "75%       46.000000  \n",
       "max    24133.000000  "
      ]
     },
     "execution_count": 110,
     "metadata": {},
     "output_type": "execute_result"
    }
   ],
   "source": [
    "train_data_csv.describe()"
   ]
  },
  {
   "cell_type": "code",
   "execution_count": 111,
   "id": "9fbf5e65-93a8-4b03-92d7-ac8e98cf9280",
   "metadata": {},
   "outputs": [
    {
     "name": "stdout",
     "output_type": "stream",
     "text": [
      "PassengerId       0\n",
      "HomePlanet      201\n",
      "CryoSleep       217\n",
      "Cabin           199\n",
      "Destination     182\n",
      "Age             179\n",
      "VIP             203\n",
      "RoomService     181\n",
      "FoodCourt       183\n",
      "ShoppingMall    208\n",
      "Spa             183\n",
      "VRDeck          188\n",
      "Name            200\n",
      "Transported       0\n",
      "dtype: int64\n"
     ]
    }
   ],
   "source": [
    "missing_values = train_data_csv.isna().sum()\n",
    "print(missing_values)"
   ]
  },
  {
   "cell_type": "code",
   "execution_count": 112,
   "id": "42fdd77e-bcc5-4870-bdb2-3d4b2ba8a2d1",
   "metadata": {},
   "outputs": [
    {
     "name": "stdout",
     "output_type": "stream",
     "text": [
      "PassengerId      object\n",
      "HomePlanet       object\n",
      "CryoSleep        object\n",
      "Cabin            object\n",
      "Destination      object\n",
      "Age             float64\n",
      "VIP              object\n",
      "RoomService     float64\n",
      "FoodCourt       float64\n",
      "ShoppingMall    float64\n",
      "Spa             float64\n",
      "VRDeck          float64\n",
      "Name             object\n",
      "Transported        bool\n",
      "dtype: object\n"
     ]
    }
   ],
   "source": [
    "print(train_data_csv.dtypes)"
   ]
  },
  {
   "cell_type": "code",
   "execution_count": 113,
   "id": "a20201f8-3eba-4b04-b619-d45bdbebba23",
   "metadata": {},
   "outputs": [
    {
     "name": "stdout",
     "output_type": "stream",
     "text": [
      "PassengerId     string[python]\n",
      "HomePlanet      string[python]\n",
      "CryoSleep                 bool\n",
      "Cabin           string[python]\n",
      "Destination     string[python]\n",
      "Age                    float64\n",
      "VIP                       bool\n",
      "RoomService            float64\n",
      "FoodCourt              float64\n",
      "ShoppingMall           float64\n",
      "Spa                    float64\n",
      "VRDeck                 float64\n",
      "Name            string[python]\n",
      "Transported               bool\n",
      "dtype: object\n"
     ]
    }
   ],
   "source": [
    "convert_dict = {'PassengerId': 'string', 'HomePlanet': 'string', 'CryoSleep': bool, 'Cabin': 'string', 'Destination': 'string', 'VIP': bool, 'Name': 'string'}\n",
    "# Convert columns using the dictionary\n",
    "# train_data_csv = train_data_csv.convert_dtypes()\n",
    "train_data_csv = train_data_csv.astype(dtype=convert_dict)\n",
    "print(train_data_csv.dtypes)"
   ]
  },
  {
   "cell_type": "markdown",
   "id": "4c6ab051-a8a4-4a0b-a4fe-cff64cb12999",
   "metadata": {},
   "source": [
    "We should split \"Cabin\" into 3 variables: deck num side."
   ]
  },
  {
   "cell_type": "code",
   "execution_count": 114,
   "id": "6f0fc1de-e51d-43f2-a89b-742e79986d28",
   "metadata": {},
   "outputs": [],
   "source": [
    "train_data_csv[['Deck', 'Num', 'Side']] = train_data_csv['Cabin'].str.split('/', expand=True) \n",
    "train_data_csv.drop(columns=['Cabin'], inplace=True)"
   ]
  },
  {
   "cell_type": "code",
   "execution_count": 115,
   "id": "b90d46e8-e66f-49b0-a85b-7a4f8986467b",
   "metadata": {},
   "outputs": [
    {
     "data": {
      "text/html": [
       "<div>\n",
       "<style scoped>\n",
       "    .dataframe tbody tr th:only-of-type {\n",
       "        vertical-align: middle;\n",
       "    }\n",
       "\n",
       "    .dataframe tbody tr th {\n",
       "        vertical-align: top;\n",
       "    }\n",
       "\n",
       "    .dataframe thead th {\n",
       "        text-align: right;\n",
       "    }\n",
       "</style>\n",
       "<table border=\"1\" class=\"dataframe\">\n",
       "  <thead>\n",
       "    <tr style=\"text-align: right;\">\n",
       "      <th></th>\n",
       "      <th>PassengerId</th>\n",
       "      <th>HomePlanet</th>\n",
       "      <th>CryoSleep</th>\n",
       "      <th>Destination</th>\n",
       "      <th>Age</th>\n",
       "      <th>VIP</th>\n",
       "      <th>RoomService</th>\n",
       "      <th>FoodCourt</th>\n",
       "      <th>ShoppingMall</th>\n",
       "      <th>Spa</th>\n",
       "      <th>VRDeck</th>\n",
       "      <th>Name</th>\n",
       "      <th>Transported</th>\n",
       "      <th>Deck</th>\n",
       "      <th>Num</th>\n",
       "      <th>Side</th>\n",
       "    </tr>\n",
       "  </thead>\n",
       "  <tbody>\n",
       "    <tr>\n",
       "      <th>0</th>\n",
       "      <td>0001_01</td>\n",
       "      <td>Europa</td>\n",
       "      <td>False</td>\n",
       "      <td>TRAPPIST-1e</td>\n",
       "      <td>39.0</td>\n",
       "      <td>False</td>\n",
       "      <td>0.0</td>\n",
       "      <td>0.0</td>\n",
       "      <td>0.0</td>\n",
       "      <td>0.0</td>\n",
       "      <td>0.0</td>\n",
       "      <td>Maham Ofracculy</td>\n",
       "      <td>False</td>\n",
       "      <td>B</td>\n",
       "      <td>0</td>\n",
       "      <td>P</td>\n",
       "    </tr>\n",
       "    <tr>\n",
       "      <th>1</th>\n",
       "      <td>0002_01</td>\n",
       "      <td>Earth</td>\n",
       "      <td>False</td>\n",
       "      <td>TRAPPIST-1e</td>\n",
       "      <td>24.0</td>\n",
       "      <td>False</td>\n",
       "      <td>109.0</td>\n",
       "      <td>9.0</td>\n",
       "      <td>25.0</td>\n",
       "      <td>549.0</td>\n",
       "      <td>44.0</td>\n",
       "      <td>Juanna Vines</td>\n",
       "      <td>True</td>\n",
       "      <td>F</td>\n",
       "      <td>0</td>\n",
       "      <td>S</td>\n",
       "    </tr>\n",
       "    <tr>\n",
       "      <th>2</th>\n",
       "      <td>0003_01</td>\n",
       "      <td>Europa</td>\n",
       "      <td>False</td>\n",
       "      <td>TRAPPIST-1e</td>\n",
       "      <td>58.0</td>\n",
       "      <td>True</td>\n",
       "      <td>43.0</td>\n",
       "      <td>3576.0</td>\n",
       "      <td>0.0</td>\n",
       "      <td>6715.0</td>\n",
       "      <td>49.0</td>\n",
       "      <td>Altark Susent</td>\n",
       "      <td>False</td>\n",
       "      <td>A</td>\n",
       "      <td>0</td>\n",
       "      <td>S</td>\n",
       "    </tr>\n",
       "    <tr>\n",
       "      <th>3</th>\n",
       "      <td>0003_02</td>\n",
       "      <td>Europa</td>\n",
       "      <td>False</td>\n",
       "      <td>TRAPPIST-1e</td>\n",
       "      <td>33.0</td>\n",
       "      <td>False</td>\n",
       "      <td>0.0</td>\n",
       "      <td>1283.0</td>\n",
       "      <td>371.0</td>\n",
       "      <td>3329.0</td>\n",
       "      <td>193.0</td>\n",
       "      <td>Solam Susent</td>\n",
       "      <td>False</td>\n",
       "      <td>A</td>\n",
       "      <td>0</td>\n",
       "      <td>S</td>\n",
       "    </tr>\n",
       "    <tr>\n",
       "      <th>4</th>\n",
       "      <td>0004_01</td>\n",
       "      <td>Earth</td>\n",
       "      <td>False</td>\n",
       "      <td>TRAPPIST-1e</td>\n",
       "      <td>16.0</td>\n",
       "      <td>False</td>\n",
       "      <td>303.0</td>\n",
       "      <td>70.0</td>\n",
       "      <td>151.0</td>\n",
       "      <td>565.0</td>\n",
       "      <td>2.0</td>\n",
       "      <td>Willy Santantines</td>\n",
       "      <td>True</td>\n",
       "      <td>F</td>\n",
       "      <td>1</td>\n",
       "      <td>S</td>\n",
       "    </tr>\n",
       "  </tbody>\n",
       "</table>\n",
       "</div>"
      ],
      "text/plain": [
       "  PassengerId HomePlanet  CryoSleep  Destination   Age    VIP  RoomService  \\\n",
       "0     0001_01     Europa      False  TRAPPIST-1e  39.0  False          0.0   \n",
       "1     0002_01      Earth      False  TRAPPIST-1e  24.0  False        109.0   \n",
       "2     0003_01     Europa      False  TRAPPIST-1e  58.0   True         43.0   \n",
       "3     0003_02     Europa      False  TRAPPIST-1e  33.0  False          0.0   \n",
       "4     0004_01      Earth      False  TRAPPIST-1e  16.0  False        303.0   \n",
       "\n",
       "   FoodCourt  ShoppingMall     Spa  VRDeck               Name  Transported  \\\n",
       "0        0.0           0.0     0.0     0.0    Maham Ofracculy        False   \n",
       "1        9.0          25.0   549.0    44.0       Juanna Vines         True   \n",
       "2     3576.0           0.0  6715.0    49.0      Altark Susent        False   \n",
       "3     1283.0         371.0  3329.0   193.0       Solam Susent        False   \n",
       "4       70.0         151.0   565.0     2.0  Willy Santantines         True   \n",
       "\n",
       "  Deck Num Side  \n",
       "0    B   0    P  \n",
       "1    F   0    S  \n",
       "2    A   0    S  \n",
       "3    A   0    S  \n",
       "4    F   1    S  "
      ]
     },
     "execution_count": 115,
     "metadata": {},
     "output_type": "execute_result"
    }
   ],
   "source": [
    "train_data_csv.head()"
   ]
  },
  {
   "cell_type": "markdown",
   "id": "a412a6fe-bf4e-43ee-b206-4aa319d5d2fe",
   "metadata": {},
   "source": [
    "Check how many missing values there are for the numeric values when cryosleep is True"
   ]
  },
  {
   "cell_type": "code",
   "execution_count": 116,
   "id": "c2609321-e4af-4fd0-af1f-138fdc944329",
   "metadata": {},
   "outputs": [
    {
     "name": "stdout",
     "output_type": "stream",
     "text": [
      "Missing values overall:\n",
      "RoomService     181\n",
      "FoodCourt       183\n",
      "ShoppingMall    208\n",
      "Spa             183\n",
      "VRDeck          188\n",
      "dtype: int64\n",
      "\n",
      "Missing values when CryoSleep is True:\n",
      "RoomService      70\n",
      "FoodCourt        73\n",
      "ShoppingMall    104\n",
      "Spa              70\n",
      "VRDeck           69\n",
      "dtype: int64\n"
     ]
    }
   ],
   "source": [
    "columns_of_interest = ['RoomService', 'FoodCourt', 'ShoppingMall', 'Spa', 'VRDeck']\n",
    "missing_overall = train_data_csv[columns_of_interest].isna().sum()\n",
    "print(\"Missing values overall:\")\n",
    "print(missing_overall)\n",
    "cryosleep_true_df = train_data_csv[train_data_csv['CryoSleep'] == True]\n",
    "\n",
    "missing_cryosleep_true = cryosleep_true_df[columns_of_interest].isna().sum()\n",
    "print(\"\\nMissing values when CryoSleep is True:\")\n",
    "print(missing_cryosleep_true)"
   ]
  },
  {
   "cell_type": "code",
   "execution_count": 117,
   "id": "0fe14ab6-d5ad-4a49-91b7-a038a2f8e6e5",
   "metadata": {},
   "outputs": [
    {
     "name": "stdout",
     "output_type": "stream",
     "text": [
      "RoomService     46959.0\n",
      "FoodCourt       98637.0\n",
      "ShoppingMall    30513.0\n",
      "Spa             58860.0\n",
      "VRDeck          61980.0\n",
      "dtype: float64\n"
     ]
    },
    {
     "data": {
      "text/html": [
       "<div>\n",
       "<style scoped>\n",
       "    .dataframe tbody tr th:only-of-type {\n",
       "        vertical-align: middle;\n",
       "    }\n",
       "\n",
       "    .dataframe tbody tr th {\n",
       "        vertical-align: top;\n",
       "    }\n",
       "\n",
       "    .dataframe thead th {\n",
       "        text-align: right;\n",
       "    }\n",
       "</style>\n",
       "<table border=\"1\" class=\"dataframe\">\n",
       "  <thead>\n",
       "    <tr style=\"text-align: right;\">\n",
       "      <th></th>\n",
       "      <th>RoomService</th>\n",
       "      <th>FoodCourt</th>\n",
       "      <th>ShoppingMall</th>\n",
       "      <th>Spa</th>\n",
       "      <th>VRDeck</th>\n",
       "    </tr>\n",
       "  </thead>\n",
       "  <tbody>\n",
       "    <tr>\n",
       "      <th>count</th>\n",
       "      <td>3184.00000</td>\n",
       "      <td>3181.000000</td>\n",
       "      <td>3150.000000</td>\n",
       "      <td>3184.000000</td>\n",
       "      <td>3185.000000</td>\n",
       "    </tr>\n",
       "    <tr>\n",
       "      <th>mean</th>\n",
       "      <td>14.74843</td>\n",
       "      <td>31.008174</td>\n",
       "      <td>9.686667</td>\n",
       "      <td>18.486181</td>\n",
       "      <td>19.459969</td>\n",
       "    </tr>\n",
       "    <tr>\n",
       "      <th>std</th>\n",
       "      <td>196.94881</td>\n",
       "      <td>389.147151</td>\n",
       "      <td>101.819818</td>\n",
       "      <td>236.368840</td>\n",
       "      <td>286.142081</td>\n",
       "    </tr>\n",
       "    <tr>\n",
       "      <th>min</th>\n",
       "      <td>0.00000</td>\n",
       "      <td>0.000000</td>\n",
       "      <td>0.000000</td>\n",
       "      <td>0.000000</td>\n",
       "      <td>0.000000</td>\n",
       "    </tr>\n",
       "    <tr>\n",
       "      <th>25%</th>\n",
       "      <td>0.00000</td>\n",
       "      <td>0.000000</td>\n",
       "      <td>0.000000</td>\n",
       "      <td>0.000000</td>\n",
       "      <td>0.000000</td>\n",
       "    </tr>\n",
       "    <tr>\n",
       "      <th>50%</th>\n",
       "      <td>0.00000</td>\n",
       "      <td>0.000000</td>\n",
       "      <td>0.000000</td>\n",
       "      <td>0.000000</td>\n",
       "      <td>0.000000</td>\n",
       "    </tr>\n",
       "    <tr>\n",
       "      <th>75%</th>\n",
       "      <td>0.00000</td>\n",
       "      <td>0.000000</td>\n",
       "      <td>0.000000</td>\n",
       "      <td>0.000000</td>\n",
       "      <td>0.000000</td>\n",
       "    </tr>\n",
       "    <tr>\n",
       "      <th>max</th>\n",
       "      <td>8243.00000</td>\n",
       "      <td>16263.000000</td>\n",
       "      <td>2179.000000</td>\n",
       "      <td>6075.000000</td>\n",
       "      <td>9811.000000</td>\n",
       "    </tr>\n",
       "  </tbody>\n",
       "</table>\n",
       "</div>"
      ],
      "text/plain": [
       "       RoomService     FoodCourt  ShoppingMall          Spa       VRDeck\n",
       "count   3184.00000   3181.000000   3150.000000  3184.000000  3185.000000\n",
       "mean      14.74843     31.008174      9.686667    18.486181    19.459969\n",
       "std      196.94881    389.147151    101.819818   236.368840   286.142081\n",
       "min        0.00000      0.000000      0.000000     0.000000     0.000000\n",
       "25%        0.00000      0.000000      0.000000     0.000000     0.000000\n",
       "50%        0.00000      0.000000      0.000000     0.000000     0.000000\n",
       "75%        0.00000      0.000000      0.000000     0.000000     0.000000\n",
       "max     8243.00000  16263.000000   2179.000000  6075.000000  9811.000000"
      ]
     },
     "execution_count": 117,
     "metadata": {},
     "output_type": "execute_result"
    }
   ],
   "source": [
    "numeric_cols = cryosleep_true_df.select_dtypes(include=['number'])\n",
    "numeric_cols = numeric_cols.drop(columns=['Age'])\n",
    "numeric_sums = numeric_cols.sum()\n",
    "print(numeric_sums)\n",
    "numeric_cols.describe()"
   ]
  },
  {
   "cell_type": "markdown",
   "id": "60529bf1-8af1-4d65-821a-449f074ee028",
   "metadata": {},
   "source": [
    "We can see that the median value is 0 for all numeric values when Cryosleep is True. We can conclude that we can fill all missing values with 0."
   ]
  },
  {
   "cell_type": "code",
   "execution_count": 118,
   "id": "0745c4e3-d30a-4b9d-b8c0-c5e02aec3525",
   "metadata": {},
   "outputs": [],
   "source": [
    "mask = train_data_csv['CryoSleep'] == True\n",
    "train_data_csv.loc[mask, columns_of_interest] = train_data_csv.loc[mask, columns_of_interest].fillna(0)"
   ]
  },
  {
   "cell_type": "code",
   "execution_count": 119,
   "id": "4d4fd588-3baa-487a-941a-397dc993ca34",
   "metadata": {},
   "outputs": [
    {
     "name": "stdout",
     "output_type": "stream",
     "text": [
      "\n",
      "Missing values when CryoSleep is True:\n",
      "RoomService     0\n",
      "FoodCourt       0\n",
      "ShoppingMall    0\n",
      "Spa             0\n",
      "VRDeck          0\n",
      "dtype: int64\n"
     ]
    }
   ],
   "source": [
    "cryosleep_true_df = train_data_csv[train_data_csv['CryoSleep'] == True]\n",
    "missing_cryosleep_true = cryosleep_true_df[columns_of_interest].isna().sum()\n",
    "print(\"\\nMissing values when CryoSleep is True:\")\n",
    "print(missing_cryosleep_true)"
   ]
  },
  {
   "cell_type": "code",
   "execution_count": 120,
   "id": "8ad05b2a-a1f2-4d78-b44e-2c06156859a0",
   "metadata": {},
   "outputs": [
    {
     "name": "stdout",
     "output_type": "stream",
     "text": [
      "True\n"
     ]
    }
   ],
   "source": [
    "# Check if the number of unique indexes equal the length of the train_data_csv dataframe\n",
    "print(train_data_csv['PassengerId'].nunique()==len(train_data_csv.index))"
   ]
  },
  {
   "cell_type": "code",
   "execution_count": 121,
   "id": "b673e375-01be-4b10-998f-17bc510a1d15",
   "metadata": {},
   "outputs": [
    {
     "name": "stdout",
     "output_type": "stream",
     "text": [
      "PassengerId       0\n",
      "HomePlanet      201\n",
      "CryoSleep         0\n",
      "Destination     182\n",
      "Age             179\n",
      "VIP               0\n",
      "RoomService     111\n",
      "FoodCourt       110\n",
      "ShoppingMall    104\n",
      "Spa             113\n",
      "VRDeck          119\n",
      "Name            200\n",
      "Transported       0\n",
      "Deck            199\n",
      "Num             199\n",
      "Side            199\n",
      "dtype: int64\n"
     ]
    }
   ],
   "source": [
    "missing_values = train_data_csv.isna().sum()\n",
    "print(missing_values)"
   ]
  },
  {
   "cell_type": "markdown",
   "id": "7cf00ebd-0cde-4e4e-883d-006db360a256",
   "metadata": {},
   "source": [
    "We can \"fill in\" the missing values for age using the mean value of the column or similar, we remove the rest."
   ]
  },
  {
   "cell_type": "code",
   "execution_count": 122,
   "id": "5fc1419d-72cd-454b-8f92-d5fd63dc3682",
   "metadata": {},
   "outputs": [],
   "source": [
    "mean_age = train_data_csv['Age'].mean()\n",
    "\n",
    "train_data_csv['Age'] = train_data_csv['Age'].fillna(value=mean_age)\n",
    "#train_data_csv['Age'].fillna(value=mean_age, inplace=True)\n",
    "\n",
    "## Dropping columns\n",
    "train_data_csv = train_data_csv.drop(['Name'], axis=1)"
   ]
  },
  {
   "cell_type": "code",
   "execution_count": 123,
   "id": "51468606-101e-47a2-8f25-8cbc8f7f49b9",
   "metadata": {},
   "outputs": [
    {
     "name": "stdout",
     "output_type": "stream",
     "text": [
      "PassengerId       0\n",
      "HomePlanet      201\n",
      "CryoSleep         0\n",
      "Destination     182\n",
      "Age               0\n",
      "VIP               0\n",
      "RoomService     111\n",
      "FoodCourt       110\n",
      "ShoppingMall    104\n",
      "Spa             113\n",
      "VRDeck          119\n",
      "Transported       0\n",
      "Deck            199\n",
      "Num             199\n",
      "Side            199\n",
      "dtype: int64\n"
     ]
    }
   ],
   "source": [
    "missing_values = train_data_csv.isna().sum()\n",
    "print(missing_values)"
   ]
  },
  {
   "cell_type": "code",
   "execution_count": 124,
   "id": "3740527b-76f4-496c-89d7-e24ad9e044e8",
   "metadata": {},
   "outputs": [
    {
     "name": "stdout",
     "output_type": "stream",
     "text": [
      "7615\n"
     ]
    }
   ],
   "source": [
    "train_data_csv.dropna(inplace=True)\n",
    "print(len(train_data_csv.index))"
   ]
  },
  {
   "cell_type": "code",
   "execution_count": null,
   "id": "a91b00c4-3160-408c-93f2-d9ae73f68b3d",
   "metadata": {},
   "outputs": [],
   "source": []
  },
  {
   "cell_type": "code",
   "execution_count": null,
   "id": "48e30731-540c-4dd6-87c6-e5329244f784",
   "metadata": {},
   "outputs": [],
   "source": []
  },
  {
   "cell_type": "code",
   "execution_count": null,
   "id": "1e5a5306-588c-4584-ab2c-8f045d50add6",
   "metadata": {},
   "outputs": [],
   "source": []
  },
  {
   "cell_type": "code",
   "execution_count": null,
   "id": "4dda1973-c909-4794-8685-08b5daf016f9",
   "metadata": {},
   "outputs": [],
   "source": []
  }
 ],
 "metadata": {
  "kernelspec": {
   "display_name": "Python 3 (ipykernel)",
   "language": "python",
   "name": "python3"
  },
  "language_info": {
   "codemirror_mode": {
    "name": "ipython",
    "version": 3
   },
   "file_extension": ".py",
   "mimetype": "text/x-python",
   "name": "python",
   "nbconvert_exporter": "python",
   "pygments_lexer": "ipython3",
   "version": "3.12.8"
  }
 },
 "nbformat": 4,
 "nbformat_minor": 5
}
