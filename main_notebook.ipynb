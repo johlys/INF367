{
 "cells": [
  {
   "cell_type": "markdown",
   "id": "308a369d",
   "metadata": {},
   "source": [
    "## INF367A Project: Spaceship Titanic"
   ]
  },
  {
   "cell_type": "markdown",
   "id": "f6f1aedd",
   "metadata": {},
   "source": [
    "This project is part of an assignement for INF367A at UiB.\n",
    "The project is taken from the Kaggle machine learning competition: Spaceship Titanic, which can be found here: https://www.kaggle.com/competitions/spaceship-titanic/"
   ]
  },
  {
   "cell_type": "markdown",
   "id": "4ed478f8",
   "metadata": {},
   "source": [
    "Contributors are:\n",
    "- Stian Forren\n",
    "- Johannes Lysne\n",
    "- Elias Ruud Aronsen\n",
    "\n",
    "Teacher: Nello Blaser    \n",
    "TA: Willem Schooltink"
   ]
  },
  {
   "cell_type": "markdown",
   "id": "eda27a23",
   "metadata": {},
   "source": [
    "## Data\n",
    "- Downloaded from https://www.kaggle.com/competitions/spaceship-titanic/data"
   ]
  },
  {
   "cell_type": "markdown",
   "id": "c1806e03",
   "metadata": {},
   "source": [
    "#### Description\n",
    "\n",
    "- Around 13000 datapoints in total, split into ~8700 training and ~4300.\n",
    "- 13 original features including PassengerId. Descriptions from Kaggle.\n",
    "    - **PassengerId** - A unique Id for each passenger. Each Id takes the form gggg_pp where gggg indicates a group the passenger is travelling with and pp is their number within the group. People in a group are often family members, but not always.\n",
    "    - **HomePlanet** - The planet the passenger departed from, typically their planet of permanent residence.\n",
    "    - **CryoSleep** - Indicates whether the passenger elected to be put into suspended animation for the duration of the voyage. Passengers in cryosleep are confined to their cabins.\n",
    "    - **Cabin** - The cabin number where the passenger is staying. Takes the form deck/num/side, where side can be either P for Port or S for Starboard.\n",
    "    - **Destination** - The planet the passenger will be debarking to.\n",
    "    - **Age** - The age of the passenger.\n",
    "    - **VIP** - Whether the passenger has paid for special VIP service during the voyage.\n",
    "    - **RoomService**, **FoodCourt**, **ShoppingMall**, **Spa**, **VRDeck** - Amount the passenger has billed at each of the Spaceship Titanic's many luxury amenities.\n",
    "    - **Name** - The first and last names of the passenger.\n",
    "\n",
    "\n",
    "- And the prediction target:\n",
    "    - **Transported** - Whether the passenger was transported to another dimension. This is the target, the column you are trying to predict."
   ]
  },
  {
   "cell_type": "code",
   "execution_count": 3,
   "id": "c3dc5220",
   "metadata": {},
   "outputs": [],
   "source": [
    "# Importing neccessary libraries\n",
    "import pandas as pd\n",
    "import numpy as np\n",
    "import seaborn as sns\n",
    "import matplotlib.pyplot as plt"
   ]
  },
  {
   "cell_type": "code",
   "execution_count": 4,
   "id": "aec5fb5c-f715-42dd-904f-b074d599bb37",
   "metadata": {},
   "outputs": [
    {
     "name": "stdout",
     "output_type": "stream",
     "text": [
      "<class 'pandas.core.frame.DataFrame'>\n",
      "RangeIndex: 8693 entries, 0 to 8692\n",
      "Data columns (total 14 columns):\n",
      " #   Column        Non-Null Count  Dtype  \n",
      "---  ------        --------------  -----  \n",
      " 0   PassengerId   8693 non-null   object \n",
      " 1   HomePlanet    8492 non-null   object \n",
      " 2   CryoSleep     8476 non-null   object \n",
      " 3   Cabin         8494 non-null   object \n",
      " 4   Destination   8511 non-null   object \n",
      " 5   Age           8514 non-null   float64\n",
      " 6   VIP           8490 non-null   object \n",
      " 7   RoomService   8512 non-null   float64\n",
      " 8   FoodCourt     8510 non-null   float64\n",
      " 9   ShoppingMall  8485 non-null   float64\n",
      " 10  Spa           8510 non-null   float64\n",
      " 11  VRDeck        8505 non-null   float64\n",
      " 12  Name          8493 non-null   object \n",
      " 13  Transported   8693 non-null   bool   \n",
      "dtypes: bool(1), float64(6), object(7)\n",
      "memory usage: 891.5+ KB\n"
     ]
    }
   ],
   "source": [
    "train = pd.read_csv('data/train.csv', sep=',')\n",
    "test = pd.read_csv(\"data/test.csv\")\n",
    "train.info() # we see that we need to change the types of the features"
   ]
  },
  {
   "cell_type": "markdown",
   "id": "5c54be78",
   "metadata": {},
   "source": [
    "- We see that we need to change alot of the features into a numeric data type."
   ]
  },
  {
   "cell_type": "code",
   "execution_count": null,
   "id": "33b446f9",
   "metadata": {},
   "outputs": [],
   "source": []
  },
  {
   "cell_type": "code",
   "execution_count": null,
   "id": "c36c4732",
   "metadata": {},
   "outputs": [],
   "source": []
  },
  {
   "cell_type": "code",
   "execution_count": null,
   "id": "8e7552ce",
   "metadata": {},
   "outputs": [],
   "source": []
  },
  {
   "cell_type": "code",
   "execution_count": null,
   "id": "82fb2a27",
   "metadata": {},
   "outputs": [],
   "source": []
  },
  {
   "cell_type": "code",
   "execution_count": null,
   "id": "740a99b6",
   "metadata": {},
   "outputs": [],
   "source": []
  },
  {
   "cell_type": "code",
   "execution_count": null,
   "id": "40760995",
   "metadata": {},
   "outputs": [],
   "source": []
  }
 ],
 "metadata": {
  "kernelspec": {
   "display_name": "JUPYTER",
   "language": "python",
   "name": "python3"
  },
  "language_info": {
   "codemirror_mode": {
    "name": "ipython",
    "version": 3
   },
   "file_extension": ".py",
   "mimetype": "text/x-python",
   "name": "python",
   "nbconvert_exporter": "python",
   "pygments_lexer": "ipython3",
   "version": "3.9.18"
  }
 },
 "nbformat": 4,
 "nbformat_minor": 5
}
