{
 "cells": [
  {
   "cell_type": "markdown",
   "id": "8f99546c-9fc6-44bf-90d2-59050e40aa76",
   "metadata": {},
   "source": [
    "# Spaceship Titanic GRANDE"
   ]
  },
  {
   "cell_type": "code",
   "execution_count": 1,
   "id": "6ef94abe-2950-4a20-8681-5a710c69e164",
   "metadata": {},
   "outputs": [],
   "source": [
    "import os\n",
    "os.environ['CUDA_VISIBLE_DEVICES']      = '0'\n",
    "os.environ['TF_FORCE_GPU_ALLOW_GROWTH'] = 'true'\n",
    "\n",
    "import pandas as pd\n",
    "from sklearn.model_selection import train_test_split\n",
    "from GRANDE import GRANDE"
   ]
  },
  {
   "cell_type": "markdown",
   "id": "a6299f6d-e6c6-47f3-a039-11780bd343a7",
   "metadata": {},
   "source": [
    "## Fitting the GRANDE model\n",
    "\n",
    "The code is from the [GRANDE github repository](https://github.com/s-marton/GRANDE)."
   ]
  },
  {
   "cell_type": "code",
   "execution_count": 2,
   "id": "9b8819da-b609-418d-a5de-e262bce71f41",
   "metadata": {},
   "outputs": [],
   "source": [
    "# 1. Load & preprocess\n",
    "df = pd.read_csv('data/train_processed.csv')\n",
    "test_df = pd.read_csv('data/test_processed.csv')"
   ]
  },
  {
   "cell_type": "code",
   "execution_count": 3,
   "id": "21bb9f26-df43-47d0-8ac1-e57803157669",
   "metadata": {},
   "outputs": [
    {
     "name": "stdout",
     "output_type": "stream",
     "text": [
      "PassengerId                   object\n",
      "Age                          float64\n",
      "RoomService                  float64\n",
      "FoodCourt                    float64\n",
      "ShoppingMall                 float64\n",
      "Spa                          float64\n",
      "VRDeck                       float64\n",
      "Transported                     bool\n",
      "CabinNum                       int64\n",
      "HomePlanet_Europa               bool\n",
      "HomePlanet_Mars                 bool\n",
      "CryoSleep_True                  bool\n",
      "Destination_PSO J318.5-22       bool\n",
      "Destination_TRAPPIST-1e         bool\n",
      "VIP_True                        bool\n",
      "Deck_B                          bool\n",
      "Deck_C                          bool\n",
      "Deck_D                          bool\n",
      "Deck_E                          bool\n",
      "Deck_F                          bool\n",
      "Deck_G                          bool\n",
      "Deck_T                          bool\n",
      "Side_S                          bool\n",
      "dtype: object\n"
     ]
    }
   ],
   "source": [
    "print(df.dtypes)"
   ]
  },
  {
   "cell_type": "code",
   "execution_count": 4,
   "id": "a8525f35-628e-4827-81c4-9ac9ab5882f6",
   "metadata": {},
   "outputs": [
    {
     "name": "stdout",
     "output_type": "stream",
     "text": [
      "PassengerId                   object\n",
      "Age                          float64\n",
      "RoomService                  float64\n",
      "FoodCourt                    float64\n",
      "ShoppingMall                 float64\n",
      "Spa                          float64\n",
      "VRDeck                       float64\n",
      "CabinNum                       int64\n",
      "HomePlanet_Europa               bool\n",
      "HomePlanet_Mars                 bool\n",
      "CryoSleep_True                  bool\n",
      "Destination_PSO J318.5-22       bool\n",
      "Destination_TRAPPIST-1e         bool\n",
      "VIP_True                        bool\n",
      "Deck_B                          bool\n",
      "Deck_C                          bool\n",
      "Deck_D                          bool\n",
      "Deck_E                          bool\n",
      "Deck_F                          bool\n",
      "Deck_G                          bool\n",
      "Deck_T                          bool\n",
      "Side_S                          bool\n",
      "dtype: object\n"
     ]
    }
   ],
   "source": [
    "print(test_df.dtypes)"
   ]
  },
  {
   "cell_type": "code",
   "execution_count": 6,
   "id": "7aee8a52-4ca8-4c86-b464-9b2a793f35e9",
   "metadata": {},
   "outputs": [
    {
     "name": "stdout",
     "output_type": "stream",
     "text": [
      "Epoch 1/100\n"
     ]
    },
    {
     "name": "stderr",
     "output_type": "stream",
     "text": [
      "c:\\Users\\elias\\miniconda3\\envs\\TABM\\lib\\site-packages\\GRANDE\\GRANDE.py:181: FutureWarning: Downcasting object dtype arrays on .fillna, .ffill, .bfill is deprecated and will change in a future version. Call result.infer_objects(copy=False) instead. To opt-in to the future behavior, set `pd.set_option('future.no_silent_downcasting', True)`\n",
      "  X_train[num_columns] = X_train[num_columns].fillna(self.mean_train_num)\n",
      "c:\\Users\\elias\\miniconda3\\envs\\TABM\\lib\\site-packages\\GRANDE\\GRANDE.py:182: FutureWarning: Downcasting object dtype arrays on .fillna, .ffill, .bfill is deprecated and will change in a future version. Call result.infer_objects(copy=False) instead. To opt-in to the future behavior, set `pd.set_option('future.no_silent_downcasting', True)`\n",
      "  X_val[num_columns] = X_val[num_columns].fillna(self.mean_train_num)\n"
     ]
    },
    {
     "name": "stdout",
     "output_type": "stream",
     "text": [
      "\u001b[1m109/109\u001b[0m \u001b[32m━━━━━━━━━━━━━━━━━━━━\u001b[0m\u001b[37m\u001b[0m \u001b[1m3s\u001b[0m 16ms/step - loss: 0.6544 - val_loss: 0.5561\n",
      "Epoch 2/100\n",
      "\u001b[1m109/109\u001b[0m \u001b[32m━━━━━━━━━━━━━━━━━━━━\u001b[0m\u001b[37m\u001b[0m \u001b[1m2s\u001b[0m 16ms/step - loss: 0.5428 - val_loss: 0.4883\n",
      "Epoch 3/100\n",
      "\u001b[1m109/109\u001b[0m \u001b[32m━━━━━━━━━━━━━━━━━━━━\u001b[0m\u001b[37m\u001b[0m \u001b[1m2s\u001b[0m 16ms/step - loss: 0.4904 - val_loss: 0.4499\n",
      "Epoch 4/100\n",
      "\u001b[1m109/109\u001b[0m \u001b[32m━━━━━━━━━━━━━━━━━━━━\u001b[0m\u001b[37m\u001b[0m \u001b[1m2s\u001b[0m 16ms/step - loss: 0.4625 - val_loss: 0.4294\n",
      "Epoch 5/100\n",
      "\u001b[1m109/109\u001b[0m \u001b[32m━━━━━━━━━━━━━━━━━━━━\u001b[0m\u001b[37m\u001b[0m \u001b[1m2s\u001b[0m 16ms/step - loss: 0.4471 - val_loss: 0.4193\n",
      "Epoch 6/100\n",
      "\u001b[1m109/109\u001b[0m \u001b[32m━━━━━━━━━━━━━━━━━━━━\u001b[0m\u001b[37m\u001b[0m \u001b[1m2s\u001b[0m 16ms/step - loss: 0.4380 - val_loss: 0.4079\n",
      "Epoch 7/100\n",
      "\u001b[1m109/109\u001b[0m \u001b[32m━━━━━━━━━━━━━━━━━━━━\u001b[0m\u001b[37m\u001b[0m \u001b[1m2s\u001b[0m 16ms/step - loss: 0.4300 - val_loss: 0.4033\n",
      "Epoch 8/100\n",
      "\u001b[1m109/109\u001b[0m \u001b[32m━━━━━━━━━━━━━━━━━━━━\u001b[0m\u001b[37m\u001b[0m \u001b[1m2s\u001b[0m 16ms/step - loss: 0.4247 - val_loss: 0.3989\n",
      "Epoch 9/100\n",
      "\u001b[1m109/109\u001b[0m \u001b[32m━━━━━━━━━━━━━━━━━━━━\u001b[0m\u001b[37m\u001b[0m \u001b[1m2s\u001b[0m 16ms/step - loss: 0.4199 - val_loss: 0.3942\n",
      "Epoch 10/100\n",
      "\u001b[1m109/109\u001b[0m \u001b[32m━━━━━━━━━━━━━━━━━━━━\u001b[0m\u001b[37m\u001b[0m \u001b[1m2s\u001b[0m 16ms/step - loss: 0.4169 - val_loss: 0.3910\n",
      "Epoch 11/100\n",
      "\u001b[1m109/109\u001b[0m \u001b[32m━━━━━━━━━━━━━━━━━━━━\u001b[0m\u001b[37m\u001b[0m \u001b[1m2s\u001b[0m 15ms/step - loss: 0.4137 - val_loss: 0.3858\n",
      "Epoch 12/100\n",
      "\u001b[1m109/109\u001b[0m \u001b[32m━━━━━━━━━━━━━━━━━━━━\u001b[0m\u001b[37m\u001b[0m \u001b[1m2s\u001b[0m 16ms/step - loss: 0.4100 - val_loss: 0.3845\n",
      "Epoch 13/100\n",
      "\u001b[1m109/109\u001b[0m \u001b[32m━━━━━━━━━━━━━━━━━━━━\u001b[0m\u001b[37m\u001b[0m \u001b[1m2s\u001b[0m 16ms/step - loss: 0.4063 - val_loss: 0.3821\n",
      "Epoch 14/100\n",
      "\u001b[1m109/109\u001b[0m \u001b[32m━━━━━━━━━━━━━━━━━━━━\u001b[0m\u001b[37m\u001b[0m \u001b[1m2s\u001b[0m 16ms/step - loss: 0.4048 - val_loss: 0.3794\n",
      "Epoch 15/100\n",
      "\u001b[1m109/109\u001b[0m \u001b[32m━━━━━━━━━━━━━━━━━━━━\u001b[0m\u001b[37m\u001b[0m \u001b[1m2s\u001b[0m 16ms/step - loss: 0.4023 - val_loss: 0.3769\n",
      "Epoch 16/100\n",
      "\u001b[1m109/109\u001b[0m \u001b[32m━━━━━━━━━━━━━━━━━━━━\u001b[0m\u001b[37m\u001b[0m \u001b[1m2s\u001b[0m 16ms/step - loss: 0.4004 - val_loss: 0.3761\n",
      "Epoch 17/100\n",
      "\u001b[1m109/109\u001b[0m \u001b[32m━━━━━━━━━━━━━━━━━━━━\u001b[0m\u001b[37m\u001b[0m \u001b[1m2s\u001b[0m 16ms/step - loss: 0.3985 - val_loss: 0.3727\n",
      "Epoch 18/100\n",
      "\u001b[1m109/109\u001b[0m \u001b[32m━━━━━━━━━━━━━━━━━━━━\u001b[0m\u001b[37m\u001b[0m \u001b[1m2s\u001b[0m 15ms/step - loss: 0.3954 - val_loss: 0.3725\n",
      "Epoch 19/100\n",
      "\u001b[1m109/109\u001b[0m \u001b[32m━━━━━━━━━━━━━━━━━━━━\u001b[0m\u001b[37m\u001b[0m \u001b[1m2s\u001b[0m 15ms/step - loss: 0.3954 - val_loss: 0.3717\n",
      "Epoch 20/100\n",
      "\u001b[1m109/109\u001b[0m \u001b[32m━━━━━━━━━━━━━━━━━━━━\u001b[0m\u001b[37m\u001b[0m \u001b[1m2s\u001b[0m 16ms/step - loss: 0.3964 - val_loss: 0.3736\n",
      "Epoch 21/100\n",
      "\u001b[1m109/109\u001b[0m \u001b[32m━━━━━━━━━━━━━━━━━━━━\u001b[0m\u001b[37m\u001b[0m \u001b[1m2s\u001b[0m 16ms/step - loss: 0.3965 - val_loss: 0.3723\n",
      "Epoch 22/100\n",
      "\u001b[1m109/109\u001b[0m \u001b[32m━━━━━━━━━━━━━━━━━━━━\u001b[0m\u001b[37m\u001b[0m \u001b[1m2s\u001b[0m 16ms/step - loss: 0.3954 - val_loss: 0.3762\n",
      "Epoch 23/100\n",
      "\u001b[1m109/109\u001b[0m \u001b[32m━━━━━━━━━━━━━━━━━━━━\u001b[0m\u001b[37m\u001b[0m \u001b[1m2s\u001b[0m 16ms/step - loss: 0.3935 - val_loss: 0.3696\n",
      "Epoch 24/100\n",
      "\u001b[1m109/109\u001b[0m \u001b[32m━━━━━━━━━━━━━━━━━━━━\u001b[0m\u001b[37m\u001b[0m \u001b[1m2s\u001b[0m 16ms/step - loss: 0.3932 - val_loss: 0.3746\n",
      "Epoch 25/100\n",
      "\u001b[1m109/109\u001b[0m \u001b[32m━━━━━━━━━━━━━━━━━━━━\u001b[0m\u001b[37m\u001b[0m \u001b[1m2s\u001b[0m 15ms/step - loss: 0.3910 - val_loss: 0.3677\n",
      "Epoch 26/100\n",
      "\u001b[1m109/109\u001b[0m \u001b[32m━━━━━━━━━━━━━━━━━━━━\u001b[0m\u001b[37m\u001b[0m \u001b[1m2s\u001b[0m 16ms/step - loss: 0.3892 - val_loss: 0.3735\n",
      "Epoch 27/100\n",
      "\u001b[1m109/109\u001b[0m \u001b[32m━━━━━━━━━━━━━━━━━━━━\u001b[0m\u001b[37m\u001b[0m \u001b[1m2s\u001b[0m 16ms/step - loss: 0.3871 - val_loss: 0.3673\n",
      "Epoch 28/100\n",
      "\u001b[1m109/109\u001b[0m \u001b[32m━━━━━━━━━━━━━━━━━━━━\u001b[0m\u001b[37m\u001b[0m \u001b[1m2s\u001b[0m 15ms/step - loss: 0.3862 - val_loss: 0.3664\n",
      "Epoch 29/100\n",
      "\u001b[1m109/109\u001b[0m \u001b[32m━━━━━━━━━━━━━━━━━━━━\u001b[0m\u001b[37m\u001b[0m \u001b[1m2s\u001b[0m 15ms/step - loss: 0.3853 - val_loss: 0.3673\n",
      "Epoch 30/100\n",
      "\u001b[1m109/109\u001b[0m \u001b[32m━━━━━━━━━━━━━━━━━━━━\u001b[0m\u001b[37m\u001b[0m \u001b[1m2s\u001b[0m 16ms/step - loss: 0.3857 - val_loss: 0.3663\n",
      "Epoch 31/100\n",
      "\u001b[1m109/109\u001b[0m \u001b[32m━━━━━━━━━━━━━━━━━━━━\u001b[0m\u001b[37m\u001b[0m \u001b[1m2s\u001b[0m 15ms/step - loss: 0.3873 - val_loss: 0.3674\n",
      "Epoch 32/100\n",
      "\u001b[1m109/109\u001b[0m \u001b[32m━━━━━━━━━━━━━━━━━━━━\u001b[0m\u001b[37m\u001b[0m \u001b[1m2s\u001b[0m 15ms/step - loss: 0.3825 - val_loss: 0.3745\n",
      "Epoch 33/100\n",
      "\u001b[1m109/109\u001b[0m \u001b[32m━━━━━━━━━━━━━━━━━━━━\u001b[0m\u001b[37m\u001b[0m \u001b[1m2s\u001b[0m 15ms/step - loss: 0.3834 - val_loss: 0.3680\n",
      "Epoch 34/100\n",
      "\u001b[1m109/109\u001b[0m \u001b[32m━━━━━━━━━━━━━━━━━━━━\u001b[0m\u001b[37m\u001b[0m \u001b[1m2s\u001b[0m 15ms/step - loss: 0.3830 - val_loss: 0.3671\n",
      "Epoch 35/100\n",
      "\u001b[1m109/109\u001b[0m \u001b[32m━━━━━━━━━━━━━━━━━━━━\u001b[0m\u001b[37m\u001b[0m \u001b[1m2s\u001b[0m 15ms/step - loss: 0.3802 - val_loss: 0.3751\n",
      "Epoch 36/100\n",
      "\u001b[1m109/109\u001b[0m \u001b[32m━━━━━━━━━━━━━━━━━━━━\u001b[0m\u001b[37m\u001b[0m \u001b[1m2s\u001b[0m 15ms/step - loss: 0.3824 - val_loss: 0.3650\n",
      "Epoch 37/100\n",
      "\u001b[1m109/109\u001b[0m \u001b[32m━━━━━━━━━━━━━━━━━━━━\u001b[0m\u001b[37m\u001b[0m \u001b[1m2s\u001b[0m 15ms/step - loss: 0.3799 - val_loss: 0.3659\n",
      "Epoch 38/100\n",
      "\u001b[1m109/109\u001b[0m \u001b[32m━━━━━━━━━━━━━━━━━━━━\u001b[0m\u001b[37m\u001b[0m \u001b[1m2s\u001b[0m 16ms/step - loss: 0.3760 - val_loss: 0.3666\n",
      "Epoch 39/100\n",
      "\u001b[1m109/109\u001b[0m \u001b[32m━━━━━━━━━━━━━━━━━━━━\u001b[0m\u001b[37m\u001b[0m \u001b[1m2s\u001b[0m 15ms/step - loss: 0.3767 - val_loss: 0.3742\n",
      "Epoch 40/100\n",
      "\u001b[1m109/109\u001b[0m \u001b[32m━━━━━━━━━━━━━━━━━━━━\u001b[0m\u001b[37m\u001b[0m \u001b[1m2s\u001b[0m 15ms/step - loss: 0.3771 - val_loss: 0.3699\n",
      "Epoch 41/100\n",
      "\u001b[1m109/109\u001b[0m \u001b[32m━━━━━━━━━━━━━━━━━━━━\u001b[0m\u001b[37m\u001b[0m \u001b[1m2s\u001b[0m 15ms/step - loss: 0.3760 - val_loss: 0.3660\n",
      "Epoch 42/100\n",
      "\u001b[1m109/109\u001b[0m \u001b[32m━━━━━━━━━━━━━━━━━━━━\u001b[0m\u001b[37m\u001b[0m \u001b[1m2s\u001b[0m 16ms/step - loss: 0.3761 - val_loss: 0.3687\n",
      "Epoch 43/100\n",
      "\u001b[1m109/109\u001b[0m \u001b[32m━━━━━━━━━━━━━━━━━━━━\u001b[0m\u001b[37m\u001b[0m \u001b[1m2s\u001b[0m 16ms/step - loss: 0.3745 - val_loss: 0.3695\n",
      "Epoch 44/100\n",
      "\u001b[1m109/109\u001b[0m \u001b[32m━━━━━━━━━━━━━━━━━━━━\u001b[0m\u001b[37m\u001b[0m \u001b[1m2s\u001b[0m 16ms/step - loss: 0.3723 - val_loss: 0.3682\n",
      "Epoch 45/100\n",
      "\u001b[1m109/109\u001b[0m \u001b[32m━━━━━━━━━━━━━━━━━━━━\u001b[0m\u001b[37m\u001b[0m \u001b[1m2s\u001b[0m 16ms/step - loss: 0.3737 - val_loss: 0.3699\n",
      "Epoch 46/100\n",
      "\u001b[1m109/109\u001b[0m \u001b[32m━━━━━━━━━━━━━━━━━━━━\u001b[0m\u001b[37m\u001b[0m \u001b[1m2s\u001b[0m 16ms/step - loss: 0.3739 - val_loss: 0.3725\n",
      "Epoch 47/100\n",
      "\u001b[1m109/109\u001b[0m \u001b[32m━━━━━━━━━━━━━━━━━━━━\u001b[0m\u001b[37m\u001b[0m \u001b[1m2s\u001b[0m 16ms/step - loss: 0.3716 - val_loss: 0.3699\n",
      "Epoch 48/100\n",
      "\u001b[1m109/109\u001b[0m \u001b[32m━━━━━━━━━━━━━━━━━━━━\u001b[0m\u001b[37m\u001b[0m \u001b[1m2s\u001b[0m 15ms/step - loss: 0.3716 - val_loss: 0.3719\n",
      "Epoch 49/100\n",
      "\u001b[1m109/109\u001b[0m \u001b[32m━━━━━━━━━━━━━━━━━━━━\u001b[0m\u001b[37m\u001b[0m \u001b[1m2s\u001b[0m 16ms/step - loss: 0.3689 - val_loss: 0.3689\n",
      "Epoch 50/100\n",
      "\u001b[1m109/109\u001b[0m \u001b[32m━━━━━━━━━━━━━━━━━━━━\u001b[0m\u001b[37m\u001b[0m \u001b[1m2s\u001b[0m 16ms/step - loss: 0.3682 - val_loss: 0.3723\n",
      "Epoch 51/100\n",
      "\u001b[1m109/109\u001b[0m \u001b[32m━━━━━━━━━━━━━━━━━━━━\u001b[0m\u001b[37m\u001b[0m \u001b[1m2s\u001b[0m 16ms/step - loss: 0.3664 - val_loss: 0.3706\n",
      "Epoch 52/100\n",
      "\u001b[1m109/109\u001b[0m \u001b[32m━━━━━━━━━━━━━━━━━━━━\u001b[0m\u001b[37m\u001b[0m \u001b[1m2s\u001b[0m 16ms/step - loss: 0.3683 - val_loss: 0.3701\n",
      "Epoch 53/100\n",
      "\u001b[1m109/109\u001b[0m \u001b[32m━━━━━━━━━━━━━━━━━━━━\u001b[0m\u001b[37m\u001b[0m \u001b[1m2s\u001b[0m 16ms/step - loss: 0.3693 - val_loss: 0.3698\n",
      "Epoch 54/100\n",
      "\u001b[1m109/109\u001b[0m \u001b[32m━━━━━━━━━━━━━━━━━━━━\u001b[0m\u001b[37m\u001b[0m \u001b[1m2s\u001b[0m 16ms/step - loss: 0.3683 - val_loss: 0.3734\n",
      "Epoch 55/100\n",
      "\u001b[1m109/109\u001b[0m \u001b[32m━━━━━━━━━━━━━━━━━━━━\u001b[0m\u001b[37m\u001b[0m \u001b[1m2s\u001b[0m 16ms/step - loss: 0.3675 - val_loss: 0.3733\n",
      "Epoch 56/100\n",
      "\u001b[1m109/109\u001b[0m \u001b[32m━━━━━━━━━━━━━━━━━━━━\u001b[0m\u001b[37m\u001b[0m \u001b[1m2s\u001b[0m 16ms/step - loss: 0.3657 - val_loss: 0.3740\n",
      "Epoch 57/100\n",
      "\u001b[1m109/109\u001b[0m \u001b[32m━━━━━━━━━━━━━━━━━━━━\u001b[0m\u001b[37m\u001b[0m \u001b[1m2s\u001b[0m 16ms/step - loss: 0.3653 - val_loss: 0.3734\n",
      "Epoch 58/100\n",
      "\u001b[1m109/109\u001b[0m \u001b[32m━━━━━━━━━━━━━━━━━━━━\u001b[0m\u001b[37m\u001b[0m \u001b[1m2s\u001b[0m 16ms/step - loss: 0.3669 - val_loss: 0.3732\n",
      "Epoch 59/100\n",
      "\u001b[1m109/109\u001b[0m \u001b[32m━━━━━━━━━━━━━━━━━━━━\u001b[0m\u001b[37m\u001b[0m \u001b[1m2s\u001b[0m 16ms/step - loss: 0.3649 - val_loss: 0.3723\n",
      "Epoch 60/100\n",
      "\u001b[1m109/109\u001b[0m \u001b[32m━━━━━━━━━━━━━━━━━━━━\u001b[0m\u001b[37m\u001b[0m \u001b[1m2s\u001b[0m 16ms/step - loss: 0.3650 - val_loss: 0.3798\n",
      "Epoch 61/100\n",
      "\u001b[1m109/109\u001b[0m \u001b[32m━━━━━━━━━━━━━━━━━━━━\u001b[0m\u001b[37m\u001b[0m \u001b[1m2s\u001b[0m 17ms/step - loss: 0.3654 - val_loss: 0.3756\n"
     ]
    }
   ],
   "source": [
    "# … your imputation, cabin parsing, quantile transforms …\n",
    "\n",
    "####\n",
    "#bool_cols = ['Transported','HomePlanet_Europa', 'HomePlanet_Mars', 'CryoSleep_True', 'Destination_PSO J318.5-22', 'Destination_TRAPPIST-1e',\n",
    "            #'VIP_True', 'Deck_B', 'Deck_C', 'Deck_D', 'Deck_E', 'Deck_F', 'Deck_G', 'Deck_T', 'Side_S']  # and any other True/False flags\n",
    "#df[bool_cols] = df[bool_cols].astype(int)\n",
    "#test_df[bool_cols]  = test_df[bool_cols].astype(int)\n",
    "\n",
    "####\n",
    "\n",
    "X = df.drop(columns=['PassengerId','Transported'])\n",
    "y = df['Transported'].astype(int)\n",
    "\n",
    "# 2. Train/Validation split\n",
    "X_train, X_valid, y_train, y_valid = train_test_split(\n",
    "    X.values, y.values,\n",
    "    test_size=0.2,\n",
    "    random_state=42,\n",
    "    stratify=y.values\n",
    ")\n",
    "\n",
    "categorical_feature_indices = []\n",
    "\n",
    "params = {\n",
    "        'depth': 5, # tree depth\n",
    "        'n_estimators': 258, # number of estimators / trees\n",
    "\n",
    "        'learning_rate_weights': 0.005, # learning rate for leaf weights\n",
    "        'learning_rate_index': 0.01, # learning rate for split indices\n",
    "        'learning_rate_values': 0.01, # learning rate for split values\n",
    "        'learning_rate_leaf': 0.01, # learning rate for leafs (logits)\n",
    "\n",
    "        'optimizer': 'adam', # optimizer\n",
    "        'cosine_decay_steps': 0, # decay steps for lr schedule (CosineDecayRestarts)\n",
    "\n",
    "        'loss': 'crossentropy', # loss function (default 'crossentropy' for binary & multi-class classification and 'mse' for regression)\n",
    "        'focal_loss': False, # use focal loss {True, False}\n",
    "        'temperature': 0.0, # temperature for stochastic re-weighted GD (0.0, 1.0)\n",
    "\n",
    "        'from_logits': True, # use logits for weighting {True, False}\n",
    "        'use_class_weights': True, # use class weights for training {True, False}\n",
    "\n",
    "        'dropout': 0.0, # dropout rate (here, dropout randomly disables individual estimators of the ensemble during training)\n",
    "\n",
    "        'selected_variables': 0.8, # feature subset percentage (0.0, 1.0)\n",
    "        'data_subset_fraction': 1.0, # data subset percentage (0.0, 1.0)\n",
    "}\n",
    "\n",
    "args = {\n",
    "    'epochs': 100, #1_000, # number of epochs for training\n",
    "    'early_stopping_epochs': 25, # patience for early stopping (best weights are restored)\n",
    "    'batch_size': 64,  # batch size for training\n",
    "\n",
    "    'cat_idx': categorical_feature_indices, # put list of categorical indices\n",
    "    'objective': 'binary', # objective / task {'binary', 'classification', 'regression'}\n",
    "    \n",
    "    'random_seed': 42,\n",
    "    'verbose': 1,       \n",
    "}\n",
    "\n",
    "model_grande = GRANDE(params=params, args=args)\n",
    "\n",
    "model_grande.fit(X_train=X_train,\n",
    "          y_train=y_train,\n",
    "          X_val=X_valid,\n",
    "          y_val=y_valid)\n"
   ]
  },
  {
   "cell_type": "markdown",
   "id": "4149ac2d-a9cd-4123-a32c-21964f4f4ff9",
   "metadata": {},
   "source": [
    "## Prediction"
   ]
  },
  {
   "cell_type": "code",
   "execution_count": null,
   "id": "bb958e73",
   "metadata": {},
   "outputs": [
    {
     "name": "stdout",
     "output_type": "stream",
     "text": [
      "Validation Accuracy: 0.8062\n"
     ]
    },
    {
     "name": "stderr",
     "output_type": "stream",
     "text": [
      "c:\\Users\\elias\\miniconda3\\envs\\TABM\\lib\\site-packages\\GRANDE\\GRANDE.py:128: FutureWarning: Downcasting object dtype arrays on .fillna, .ffill, .bfill is deprecated and will change in a future version. Call result.infer_objects(copy=False) instead. To opt-in to the future behavior, set `pd.set_option('future.no_silent_downcasting', True)`\n",
      "  X[self.num_columns] = X[self.num_columns].fillna(self.mean_train_num)\n"
     ]
    }
   ],
   "source": [
    "from sklearn.metrics import accuracy_score\n",
    "import numpy as np\n",
    "y_pred = model_grande.predict(X_valid)\n",
    "y_pred = np.argmax(y_pred, axis=1)\n",
    "\n",
    "accuracy = accuracy_score(y_valid, y_pred)\n",
    "print(f\"Validation Accuracy: {accuracy:.4f}\")"
   ]
  },
  {
   "cell_type": "code",
   "execution_count": 12,
   "id": "1a10a61a-62ed-4f8a-acf5-3fc586feb5d9",
   "metadata": {},
   "outputs": [
    {
     "name": "stderr",
     "output_type": "stream",
     "text": [
      "c:\\Users\\elias\\miniconda3\\envs\\TABM\\lib\\site-packages\\GRANDE\\GRANDE.py:128: FutureWarning: Downcasting object dtype arrays on .fillna, .ffill, .bfill is deprecated and will change in a future version. Call result.infer_objects(copy=False) instead. To opt-in to the future behavior, set `pd.set_option('future.no_silent_downcasting', True)`\n",
      "  X[self.num_columns] = X[self.num_columns].fillna(self.mean_train_num)\n"
     ]
    }
   ],
   "source": [
    "# Load & preprocess test set\n",
    "test_df = pd.read_csv('data/test_processed.csv')\n",
    "# … same preprocessing as train …\n",
    "X_test = test_df.drop(columns=['PassengerId']).values\n",
    "\n",
    "# Generate predictions\n",
    "preds = model_grande.predict(X_test)\n",
    "# For binary, preds[:,1] is the prob. of True\n",
    "submission = pd.DataFrame({\n",
    "    'PassengerId': test_df['PassengerId'],\n",
    "    'Transported': (preds[:,1] > 0.5)\n",
    "})\n",
    "submission.to_csv('submission_grande.csv', index=False)"
   ]
  },
  {
   "cell_type": "code",
   "execution_count": null,
   "id": "53d60fdf-7f94-43c8-a6bd-e56d481ad35c",
   "metadata": {},
   "outputs": [],
   "source": []
  }
 ],
 "metadata": {
  "kernelspec": {
   "display_name": "TABM",
   "language": "python",
   "name": "python3"
  },
  "language_info": {
   "codemirror_mode": {
    "name": "ipython",
    "version": 3
   },
   "file_extension": ".py",
   "mimetype": "text/x-python",
   "name": "python",
   "nbconvert_exporter": "python",
   "pygments_lexer": "ipython3",
   "version": "3.10.16"
  }
 },
 "nbformat": 4,
 "nbformat_minor": 5
}
